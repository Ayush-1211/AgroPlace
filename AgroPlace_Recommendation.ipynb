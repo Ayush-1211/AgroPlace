{
  "nbformat": 4,
  "nbformat_minor": 0,
  "metadata": {
    "colab": {
      "provenance": []
    },
    "kernelspec": {
      "name": "python3",
      "display_name": "Python 3"
    },
    "language_info": {
      "name": "python"
    }
  },
  "cells": [
    {
      "cell_type": "code",
      "source": [
        "pip install scikit-surprise"
      ],
      "metadata": {
        "colab": {
          "base_uri": "https://localhost:8080/"
        },
        "id": "_wbkmKUaa4wT",
        "outputId": "76cc8fcb-b999-4514-d9b9-79db173eb613"
      },
      "execution_count": 2,
      "outputs": [
        {
          "output_type": "stream",
          "name": "stdout",
          "text": [
            "Collecting scikit-surprise\n",
            "  Downloading scikit-surprise-1.1.3.tar.gz (771 kB)\n",
            "\u001b[2K     \u001b[90m━━━━━━━━━━━━━━━━━━━━━━━━━━━━━━━━━━━━━━━━\u001b[0m \u001b[32m772.0/772.0 kB\u001b[0m \u001b[31m3.6 MB/s\u001b[0m eta \u001b[36m0:00:00\u001b[0m\n",
            "\u001b[?25h  Preparing metadata (setup.py) ... \u001b[?25l\u001b[?25hdone\n",
            "Requirement already satisfied: joblib>=1.0.0 in /usr/local/lib/python3.10/dist-packages (from scikit-surprise) (1.3.2)\n",
            "Requirement already satisfied: numpy>=1.17.3 in /usr/local/lib/python3.10/dist-packages (from scikit-surprise) (1.23.5)\n",
            "Requirement already satisfied: scipy>=1.3.2 in /usr/local/lib/python3.10/dist-packages (from scikit-surprise) (1.11.3)\n",
            "Building wheels for collected packages: scikit-surprise\n",
            "  Building wheel for scikit-surprise (setup.py) ... \u001b[?25l\u001b[?25hdone\n",
            "  Created wheel for scikit-surprise: filename=scikit_surprise-1.1.3-cp310-cp310-linux_x86_64.whl size=3163340 sha256=ec77fa506e14f70e401e8e499cd98a78ff1d0c61837188b1abcea5e858c9fca2\n",
            "  Stored in directory: /root/.cache/pip/wheels/a5/ca/a8/4e28def53797fdc4363ca4af740db15a9c2f1595ebc51fb445\n",
            "Successfully built scikit-surprise\n",
            "Installing collected packages: scikit-surprise\n",
            "Successfully installed scikit-surprise-1.1.3\n"
          ]
        }
      ]
    },
    {
      "cell_type": "code",
      "execution_count": 3,
      "metadata": {
        "id": "L-MZYc3manFA"
      },
      "outputs": [],
      "source": [
        "import pandas as pd\n",
        "from surprise import Dataset, Reader, KNNBasic\n",
        "import random"
      ]
    },
    {
      "cell_type": "code",
      "source": [
        "# Load dataset\n",
        "df = pd.read_csv('/content/drive/MyDrive/Virtual Agriculture Marketplace/AgroPlace_Dataset_6.csv')"
      ],
      "metadata": {
        "id": "0EZoS4DlbS-R"
      },
      "execution_count": 4,
      "outputs": []
    },
    {
      "cell_type": "code",
      "source": [
        "# Create a Reader object to specify the rating scale\n",
        "reader = Reader(rating_scale=(0, 10))\n",
        "\n",
        "data = Dataset.load_from_df(df[['Customer ID', 'Product line', 'Rating']], reader)\n",
        "\n",
        "# Split the dataset into training and testing sets\n",
        "trainset = data.build_full_trainset()\n",
        "\n",
        "# Build and train the item-based collaborative filtering model\n",
        "sim_options = {\n",
        "    'name': 'cosine',\n",
        "    'user_based': False  # Item-based collaborative filtering\n",
        "}\n",
        "\n",
        "model = KNNBasic(sim_options=sim_options)\n",
        "model.fit(trainset)"
      ],
      "metadata": {
        "colab": {
          "base_uri": "https://localhost:8080/"
        },
        "id": "tiP8FrrvbZ0m",
        "outputId": "7c314a1f-2365-4c57-a33e-6e8b50a58b10"
      },
      "execution_count": 5,
      "outputs": [
        {
          "output_type": "stream",
          "name": "stdout",
          "text": [
            "Computing the cosine similarity matrix...\n",
            "Done computing similarity matrix.\n"
          ]
        },
        {
          "output_type": "execute_result",
          "data": {
            "text/plain": [
              "<surprise.prediction_algorithms.knns.KNNBasic at 0x7a12f01f4100>"
            ]
          },
          "metadata": {},
          "execution_count": 5
        }
      ]
    },
    {
      "cell_type": "code",
      "source": [
        "# Get a list of unique user IDs\n",
        "user_ids = trainset.all_users()\n",
        "\n",
        "# Randomly select a user ID\n",
        "random_user_id = random.choice(user_ids)\n",
        "\n",
        "# Retrieve a list of all product IDs\n",
        "product_ids = list(df['Product line'].unique())\n",
        "random.shuffle(product_ids)"
      ],
      "metadata": {
        "id": "UNaD-L9mbsmn"
      },
      "execution_count": 6,
      "outputs": []
    },
    {
      "cell_type": "code",
      "source": [
        "# Get predictions\n",
        "predictions = [model.predict(random_user_id, trainset.to_inner_iid(item_id)) for item_id in product_ids]\n",
        "\n",
        "# Sort the predictions by estimated rating\n",
        "sorted_predictions = sorted(predictions, key=lambda x: x.est, reverse=True)\n",
        "\n",
        "# Get the top 5 recommended item\n",
        "top_n_recommendations = sorted_predictions[:5]\n",
        "\n",
        "# Create a dictionary to map inner item IDs to product line names\n",
        "id_to_product_name = {trainset.to_inner_iid(item_id): item_id for item_id in product_ids}\n",
        "\n",
        "# Convert inner item IDs to product line names\n",
        "recommended_items = [id_to_product_name[prediction.iid] for prediction in top_n_recommendations]"
      ],
      "metadata": {
        "id": "B-xcXw3ZbyBu"
      },
      "execution_count": 7,
      "outputs": []
    },
    {
      "cell_type": "code",
      "source": [
        "# Print the top recommended items for the random user\n",
        "print(f\"Top 5 recommendations for User {random_user_id}:\")\n",
        "for i, item in enumerate(recommended_items, start=1):\n",
        "    print(f\"{i}. {item}\")"
      ],
      "metadata": {
        "colab": {
          "base_uri": "https://localhost:8080/"
        },
        "id": "pKCo3P3nb7Z_",
        "outputId": "f428e4a0-32e3-42a2-ccc8-dd19945999a2"
      },
      "execution_count": 8,
      "outputs": [
        {
          "output_type": "stream",
          "name": "stdout",
          "text": [
            "Top 5 recommendations for User 2051:\n",
            "1. Peppers\n",
            "2. Spinach\n",
            "3. Onions\n",
            "4. Wheat\n",
            "5. Potatoes\n"
          ]
        }
      ]
    }
  ]
}